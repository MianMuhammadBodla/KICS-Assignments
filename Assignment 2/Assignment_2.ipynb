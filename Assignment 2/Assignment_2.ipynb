{
  "nbformat": 4,
  "nbformat_minor": 0,
  "metadata": {
    "colab": {
      "provenance": [],
      "gpuType": "T4"
    },
    "kernelspec": {
      "name": "python3",
      "display_name": "Python 3"
    },
    "language_info": {
      "name": "python"
    }
  },
  "cells": [
    {
      "cell_type": "markdown",
      "source": [
        "# Python Basics Exercises\n"
      ],
      "metadata": {
        "id": "f7ixSN95kCZr"
      }
    },
    {
      "cell_type": "code",
      "execution_count": null,
      "metadata": {
        "colab": {
          "base_uri": "https://localhost:8080/"
        },
        "id": "PQHXlNKGQpDX",
        "outputId": "e0d962a7-6fd7-4caf-82fd-66401564281c"
      },
      "outputs": [
        {
          "output_type": "stream",
          "name": "stdout",
          "text": [
            "Muhammad\n"
          ]
        }
      ],
      "source": [
        "# 1. Simple Message\n",
        "# Task: Assign a message to a variable and then print that message.\n",
        "\n",
        "Name = \"Muhammad\"\n",
        "print(Name)\n"
      ]
    },
    {
      "cell_type": "code",
      "source": [
        "# 2. Simple Messages\n",
        "# Task:\n",
        "# ● Assign a message to a variable and print that message.\n",
        "# ● Change the value of the variable to a new message, and print the new message.\n",
        "\n",
        "Name = \"Muhammad\"\n",
        "print(Name)\n",
        "\n",
        "Name = \"Muhammad Ahmed\"\n",
        "print(Name)\n"
      ],
      "metadata": {
        "colab": {
          "base_uri": "https://localhost:8080/"
        },
        "id": "CyxyUQQYQ9fT",
        "outputId": "5670e5e8-5853-4ae0-968b-a5dbcb0a72a8"
      },
      "execution_count": null,
      "outputs": [
        {
          "output_type": "stream",
          "name": "stdout",
          "text": [
            "Muhammad\n",
            "Muhammad Ahmed\n"
          ]
        }
      ]
    },
    {
      "cell_type": "code",
      "source": [
        "# 3. Personal Message\n",
        "# Task:\n",
        "# ● Use a variable to represent a person’s name.\n",
        "# ● Print a message to that person, such as, “Hello Eric, would you like to learn some\n",
        "# Python today?”\n",
        "\n",
        "\n",
        "Person = \"Ali\"\n",
        "print(f\"Hello {Person}, would you like to learn some Python today?\")\n",
        "\n"
      ],
      "metadata": {
        "colab": {
          "base_uri": "https://localhost:8080/"
        },
        "id": "dby-xptYRy4U",
        "outputId": "4fa866bd-365e-45c5-8086-a618b76a263f"
      },
      "execution_count": null,
      "outputs": [
        {
          "output_type": "stream",
          "name": "stdout",
          "text": [
            "Hello Ali, would you like to learn some Python today?\n"
          ]
        }
      ]
    },
    {
      "cell_type": "code",
      "source": [
        "# 4. Name Cases\n",
        "# Task:\n",
        "# ● Use a variable to represent a person’s name.\n",
        "# ● Print the person’s name in lowercase, uppercase, and title case.\n",
        "\n",
        "\n",
        "Person = \"Ali\"\n",
        "print(Person.lower())\n",
        "print(Person.upper())\n",
        "print(Person.title())\n"
      ],
      "metadata": {
        "colab": {
          "base_uri": "https://localhost:8080/"
        },
        "id": "STncoZu6SYa_",
        "outputId": "4120f84d-d6e7-4796-ec4c-f94bff4cdae6"
      },
      "execution_count": null,
      "outputs": [
        {
          "output_type": "stream",
          "name": "stdout",
          "text": [
            "ali\n",
            "ALI\n",
            "Ali\n"
          ]
        }
      ]
    },
    {
      "cell_type": "code",
      "source": [
        "# 5. Famous Quote\n",
        "# Task:\n",
        "# ● Find a quote from a famous person you admire.\n",
        "# ● Print the quote and the name of its author.\n",
        "\n",
        "Person = \"J. Robert Oppenheimer's\"\n",
        "Quote = \"Now I am become Death, the destroyer of worlds\"\n",
        "\n",
        "print(f\"{Person} once said, \\\"{Quote}\\\"\")"
      ],
      "metadata": {
        "colab": {
          "base_uri": "https://localhost:8080/"
        },
        "id": "lbSvO1tsUp7B",
        "outputId": "67370827-1373-4b2f-a8f8-5075a352eb4b"
      },
      "execution_count": null,
      "outputs": [
        {
          "output_type": "stream",
          "name": "stdout",
          "text": [
            "J. Robert Oppenheimer's once said, \"Now I am become Death, the destroyer of worlds\"\n"
          ]
        }
      ]
    },
    {
      "cell_type": "code",
      "source": [
        "# 6. Famous Quote 2\n",
        "# Task:\n",
        "# ● Use a variable called famous_person to represent the famous person’s name.\n",
        "# ● Compose the message and represent it with a variable called message.\n",
        "# ● Print the message.\n",
        "\n",
        "Famous_person = \"J. Robert Oppenheimer's\"\n",
        "message = Famous_person + ' once said,\"Now I am become Death, the destroyer of worlds\"'\n",
        "\n",
        "print(message)"
      ],
      "metadata": {
        "id": "3DviGq41VNL7",
        "colab": {
          "base_uri": "https://localhost:8080/"
        },
        "outputId": "1200a697-79c2-42d1-9e0c-93e1c80143ea"
      },
      "execution_count": 2,
      "outputs": [
        {
          "output_type": "stream",
          "name": "stdout",
          "text": [
            "J. Robert Oppenheimer's once said,\"Now I am become Death, the destroyer of worlds\"\n"
          ]
        }
      ]
    },
    {
      "cell_type": "code",
      "source": [
        "# 7. Stripping Names\n",
        "# Task:\n",
        "# ● Use a variable to represent a person’s name, and include some whitespace characters\n",
        "# at the beginning and end of the name.\n",
        "# ● Make sure you use each character combination, \\t and \\n, at least once.\n",
        "# ● Print the name once, so the whitespace around the name is displayed.\n",
        "# ● Print the name using each of the three stripping functions: lstrip(), rstrip(), and\n",
        "# strip().\n",
        "\n",
        "person_name = \"\\t Muhammad \\n\"\n",
        "print(person_name)\n",
        "print(person_name.lstrip())\n",
        "print(person_name.rstrip())\n",
        "print(person_name.strip())"
      ],
      "metadata": {
        "colab": {
          "base_uri": "https://localhost:8080/"
        },
        "id": "1M7bvtgnhI56",
        "outputId": "d2dd7fab-363d-4374-a485-9a5bec2e6ced"
      },
      "execution_count": 3,
      "outputs": [
        {
          "output_type": "stream",
          "name": "stdout",
          "text": [
            "\t Muhammad \n",
            "\n",
            "Muhammad \n",
            "\n",
            "\t Muhammad\n",
            "Muhammad\n"
          ]
        }
      ]
    },
    {
      "cell_type": "code",
      "source": [
        "# 8. Variable Sum\n",
        "# Task: Assign the values 5, 10, and 15 to three variables x, y, and z. Print their sum.\n",
        "\n",
        "x = 5\n",
        "y = 10\n",
        "z = 15\n",
        "\n",
        "print(x + y + z)"
      ],
      "metadata": {
        "colab": {
          "base_uri": "https://localhost:8080/"
        },
        "id": "4p2VfCuAhgoF",
        "outputId": "618e29ec-ec43-4fd4-b32c-350e55c57a21"
      },
      "execution_count": 5,
      "outputs": [
        {
          "output_type": "stream",
          "name": "stdout",
          "text": [
            "30\n"
          ]
        }
      ]
    },
    {
      "cell_type": "code",
      "source": [
        "# 9. Variable Swap\n",
        "# Task: Swap the values of two variables a and b. Print the values before and after the swap.\n",
        "\n",
        "a = 10\n",
        "b = 20\n",
        "\n",
        "print(a, b)\n",
        "\n",
        "a, b = b, a\n",
        "\n",
        "print(a, b)"
      ],
      "metadata": {
        "colab": {
          "base_uri": "https://localhost:8080/"
        },
        "id": "rpIr4TCchmQo",
        "outputId": "1f107b3a-eb97-4e75-a6aa-fc231de89a29"
      },
      "execution_count": 6,
      "outputs": [
        {
          "output_type": "stream",
          "name": "stdout",
          "text": [
            "10 20\n",
            "20 10\n"
          ]
        }
      ]
    },
    {
      "cell_type": "code",
      "source": [
        "# 10. Favorite Color\n",
        "# Task: Create a variable with your favorite color and print it. Then change the variable name to\n",
        "# something else and print the color again.\n",
        "\n",
        "fav_color = \"Green\"\n",
        "\n",
        "print(fav_color)\n",
        "\n",
        "fav_color = \"Blue\"\n",
        "\n",
        "print(fav_color)"
      ],
      "metadata": {
        "colab": {
          "base_uri": "https://localhost:8080/"
        },
        "id": "PZ5-cSwahtr0",
        "outputId": "5bbb75f4-36f5-45ab-924e-935985e516d8"
      },
      "execution_count": 8,
      "outputs": [
        {
          "output_type": "stream",
          "name": "stdout",
          "text": [
            "Green\n",
            "Blue\n"
          ]
        }
      ]
    },
    {
      "cell_type": "code",
      "source": [
        "# 11. Changing Pet Name\n",
        "# Task: Create a variable pet_name and set it to \"Buddy\". Change the value of pet_name to\n",
        "# \"Max\" and print the new value.\n",
        "\n",
        "pet_name = \"Buddy\"\n",
        "\n",
        "print(pet_name)\n",
        "\n",
        "pet_name = \"Max\"\n",
        "\n",
        "print(pet_name)\n"
      ],
      "metadata": {
        "colab": {
          "base_uri": "https://localhost:8080/"
        },
        "id": "gxMGYmoRiEpJ",
        "outputId": "c47bee22-8893-4c1b-f256-9ec29417d894"
      },
      "execution_count": 10,
      "outputs": [
        {
          "output_type": "stream",
          "name": "stdout",
          "text": [
            "Buddy\n",
            "Max\n"
          ]
        }
      ]
    },
    {
      "cell_type": "code",
      "source": [
        "# 12. Observing Name Error\n",
        "# Task: Assign the value \"Sunshine\" to a variable and print it. Then, mistakenly try to print a\n",
        "# variable with a different name (like sunsine) and observe the error.\n",
        "\n",
        "name = \"Sunshine\"\n",
        "\n",
        "print(name)\n",
        "\n",
        "print(sunsine)"
      ],
      "metadata": {
        "colab": {
          "base_uri": "https://localhost:8080/",
          "height": 193
        },
        "id": "Tu-8radsiRnu",
        "outputId": "1b28437e-7004-4b1a-cc5d-270f47884630"
      },
      "execution_count": 2,
      "outputs": [
        {
          "output_type": "stream",
          "name": "stdout",
          "text": [
            "Sunshine\n"
          ]
        },
        {
          "output_type": "error",
          "ename": "NameError",
          "evalue": "name 'sunsine' is not defined",
          "traceback": [
            "\u001b[0;31m---------------------------------------------------------------------------\u001b[0m",
            "\u001b[0;31mNameError\u001b[0m                                 Traceback (most recent call last)",
            "\u001b[0;32m<ipython-input-2-43755f901525>\u001b[0m in \u001b[0;36m<cell line: 9>\u001b[0;34m()\u001b[0m\n\u001b[1;32m      7\u001b[0m \u001b[0mprint\u001b[0m\u001b[0;34m(\u001b[0m\u001b[0mname\u001b[0m\u001b[0;34m)\u001b[0m\u001b[0;34m\u001b[0m\u001b[0;34m\u001b[0m\u001b[0m\n\u001b[1;32m      8\u001b[0m \u001b[0;34m\u001b[0m\u001b[0m\n\u001b[0;32m----> 9\u001b[0;31m \u001b[0mprint\u001b[0m\u001b[0;34m(\u001b[0m\u001b[0msunsine\u001b[0m\u001b[0;34m)\u001b[0m\u001b[0;34m\u001b[0m\u001b[0;34m\u001b[0m\u001b[0m\n\u001b[0m",
            "\u001b[0;31mNameError\u001b[0m: name 'sunsine' is not defined"
          ]
        }
      ]
    },
    {
      "cell_type": "code",
      "source": [
        "# 13. Reassigning Score\n",
        "# Task: Assign the value 100 to a variable score and print it. Then assign a new value to score\n",
        "# and print it again.\n",
        "\n",
        "score = 100\n",
        "\n",
        "print(score)\n",
        "\n",
        "score = 200\n",
        "\n",
        "print(score)"
      ],
      "metadata": {
        "colab": {
          "base_uri": "https://localhost:8080/"
        },
        "id": "ooajgSEUiZjJ",
        "outputId": "6d0535ac-5bc6-42ce-9d53-892bb74c96f0"
      },
      "execution_count": 3,
      "outputs": [
        {
          "output_type": "stream",
          "name": "stdout",
          "text": [
            "100\n",
            "200\n"
          ]
        }
      ]
    },
    {
      "cell_type": "code",
      "source": [
        "# 14. City Name\n",
        "# Task: Create a string variable city and assign it the name of a city you like. Print the city\n",
        "# name.\n",
        "\n",
        "city = \"Lahore\"\n",
        "\n",
        "print(city)"
      ],
      "metadata": {
        "colab": {
          "base_uri": "https://localhost:8080/"
        },
        "id": "sTXlC78gir-6",
        "outputId": "8efa93d8-8a54-4c09-8051-0dc1c06ff41d"
      },
      "execution_count": 4,
      "outputs": [
        {
          "output_type": "stream",
          "name": "stdout",
          "text": [
            "Lahore\n"
          ]
        }
      ]
    },
    {
      "cell_type": "code",
      "source": [
        "# 15. Title Case Text\n",
        "# Task: Create a variable text with the value \"python programming\" and print it in title case.\n",
        "\n",
        "text = \"python programming\"\n",
        "\n",
        "print(text.title())"
      ],
      "metadata": {
        "colab": {
          "base_uri": "https://localhost:8080/"
        },
        "id": "lwdU3UAZi7iV",
        "outputId": "e968159c-893e-4fca-c34e-f09f4e429f1a"
      },
      "execution_count": 5,
      "outputs": [
        {
          "output_type": "stream",
          "name": "stdout",
          "text": [
            "Python Programming\n"
          ]
        }
      ]
    },
    {
      "cell_type": "code",
      "source": [
        "# 16. Lowercase Conversion\n",
        "# Task: Assign a string with mixed cases to a variable and print it in all lowercase letters.\n",
        "\n",
        "text = \"PYtHON PRoGRAmmING\"\n",
        "print(text.lower())\n"
      ],
      "metadata": {
        "colab": {
          "base_uri": "https://localhost:8080/"
        },
        "id": "KrbAZzKtjCTg",
        "outputId": "c34364ba-ff1e-41f3-e21b-932822c75866"
      },
      "execution_count": 6,
      "outputs": [
        {
          "output_type": "stream",
          "name": "stdout",
          "text": [
            "python programming\n"
          ]
        }
      ]
    },
    {
      "cell_type": "code",
      "source": [
        "# 17. Uppercase Conversion\n",
        "# Task: Assign a string with mixed cases to a variable and print it in all uppercase letters.\n",
        "\n",
        "text = \"PYtHON PRoGRAmmING\"\n",
        "print(text.upper())\n"
      ],
      "metadata": {
        "colab": {
          "base_uri": "https://localhost:8080/"
        },
        "id": "8SiPLVYpjSsD",
        "outputId": "9b49c711-113b-4315-dba9-1f5797c5ee65"
      },
      "execution_count": 7,
      "outputs": [
        {
          "output_type": "stream",
          "name": "stdout",
          "text": [
            "PYTHON PROGRAMMING\n"
          ]
        }
      ]
    },
    {
      "cell_type": "code",
      "source": [
        "# 18. Current Temperature\n",
        "# Task: Create a variable temperature with the value 25. Print \"The current temperature is\n",
        "# [temperature] degrees.\" using the variable.\n",
        "\n",
        "temperature = 25\n",
        "\n",
        "print (f\"The current temperature is {temperature} degrees.\")"
      ],
      "metadata": {
        "colab": {
          "base_uri": "https://localhost:8080/"
        },
        "id": "Aj6eP4HHjbTO",
        "outputId": "92e07849-1be0-4392-d654-dd849c837bf8"
      },
      "execution_count": 8,
      "outputs": [
        {
          "output_type": "stream",
          "name": "stdout",
          "text": [
            "The current temperature is 25 degrees.\n"
          ]
        }
      ]
    },
    {
      "cell_type": "code",
      "source": [
        "# 19. Printing a Poem\n",
        "# Task: Create a variable poem with a short poem that has multiple lines. Print the poem with\n",
        "# each line starting on a new line.\n",
        "\n",
        "poem = \"\"\"\n",
        "\n",
        "Twinkle Twinkle, Little Star\n",
        "How I wonder what you are\n",
        "Up above the world so high\n",
        "Like a diamond in the sky\n",
        "Twinkle Twinkle Little Star\n",
        "How I wonder what you are!\n",
        "Twinkle Twinkle, Little Star\n",
        "How I wonder what you are\n",
        "Up above the world so high\n",
        "Like a diamond in the sky\n",
        "Twinkle Twinkle Little Star\n",
        "How I wonder what you are!\n",
        "\n",
        "\"\"\"\n",
        "\n",
        "print(poem)"
      ],
      "metadata": {
        "colab": {
          "base_uri": "https://localhost:8080/"
        },
        "id": "mtmsadopjk75",
        "outputId": "7f7b55bc-1f38-4ff6-cb8f-d377e27ced7d"
      },
      "execution_count": 9,
      "outputs": [
        {
          "output_type": "stream",
          "name": "stdout",
          "text": [
            "\n",
            "\n",
            "Twinkle Twinkle, Little Star\n",
            "How I wonder what you are\n",
            "Up above the world so high\n",
            "Like a diamond in the sky\n",
            "Twinkle Twinkle Little Star\n",
            "How I wonder what you are!\n",
            "Twinkle Twinkle, Little Star\n",
            "How I wonder what you are\n",
            "Up above the world so high\n",
            "Like a diamond in the sky\n",
            "Twinkle Twinkle Little Star\n",
            "How I wonder what you are!\n",
            "\n",
            "\n"
          ]
        }
      ]
    },
    {
      "cell_type": "markdown",
      "source": [
        "# Python Exercises on Lists\n"
      ],
      "metadata": {
        "id": "hLPVgy50kMvz"
      }
    },
    {
      "cell_type": "code",
      "source": [
        "# Exercise 3-1: Names\n",
        "# ● Task: Store the names of a few of your friends in a list called names. Print each person’s\n",
        "# name by accessing each element in the list, one at a time.\n",
        "\n",
        "Name = [\"Ali\", \"Ali Salman\", \"Zain\"]\n",
        "\n",
        "print(Name[0])\n",
        "print(Name[1])\n",
        "print(Name[2])"
      ],
      "metadata": {
        "colab": {
          "base_uri": "https://localhost:8080/"
        },
        "id": "5cwkl2FckRL9",
        "outputId": "c048a7ed-5826-4d3e-96c1-b6403c606f9c"
      },
      "execution_count": 1,
      "outputs": [
        {
          "output_type": "stream",
          "name": "stdout",
          "text": [
            "Ali\n",
            "Ali Salman\n",
            "Zain\n"
          ]
        }
      ]
    },
    {
      "cell_type": "code",
      "source": [
        "# Exercise 3-2: Greetings\n",
        "# ● Task: Start with the list you used in Exercise 3-1. Instead of just printing each person’s\n",
        "# name, print a message to them. The text of each message should be the same, but each\n",
        "# message should be personalized with the person’s name.\n",
        "\n",
        "Name = [\"Ali\", \"Ali Salman\", \"Zain\"]\n",
        "\n",
        "print(f\"Hello {Name[0]}, How are you?\")\n",
        "print(f\"Hello {Name[1]}, How are you?\")\n",
        "print(f\"Hello {Name[2]}, How are you?\")"
      ],
      "metadata": {
        "colab": {
          "base_uri": "https://localhost:8080/"
        },
        "id": "GYuEeVJwk-lU",
        "outputId": "5962ec7b-05fd-417c-de87-2e464d726472"
      },
      "execution_count": 2,
      "outputs": [
        {
          "output_type": "stream",
          "name": "stdout",
          "text": [
            "Hello Ali, How are you?\n",
            "Hello Ali Salman, How are you?\n",
            "Hello Zain, How are you?\n"
          ]
        }
      ]
    },
    {
      "cell_type": "code",
      "source": [
        "# Exercise 3-3: Your Own List\n",
        "# ● Task: Think of your favorite mode of transportation, such as a motorcycle or a car, and\n",
        "# make a list that stores several examples. Use your list to print a series of statements\n",
        "# about these items, such as “I would like to own a Honda motorcycle.”\n",
        "\n",
        "Transp = [\"Cyber Truck\", \"G Wagen \", \"Orange Train😭\"]\n",
        "\n",
        "print(f\"I would like to own a {Transp[0]}\")\n",
        "print(f\"I would like to own a {Transp[1]}\")\n",
        "print(f\"I would like to own a {Transp[2]}\")"
      ],
      "metadata": {
        "colab": {
          "base_uri": "https://localhost:8080/"
        },
        "id": "AhugMU3HlDfX",
        "outputId": "324203bb-736f-46a3-ed04-f623e49e2768"
      },
      "execution_count": 4,
      "outputs": [
        {
          "output_type": "stream",
          "name": "stdout",
          "text": [
            "I would like to own a Cyber Truck\n",
            "I would like to own a G Wagen \n",
            "I would like to own a Orange Train😭\n"
          ]
        }
      ]
    },
    {
      "cell_type": "code",
      "source": [
        "# Exercise 3-4: Guest List\n",
        "# ● Task: If you could invite anyone, living or deceased, to dinner, who would you invite?\n",
        "# Make a list that includes at least three people you’d like to invite to dinner. Then use your\n",
        "# list to print a message to each person, inviting them to dinner.\n",
        "\n",
        "Name = [\"Ali\", \"Ali Salman\", \"Zain\"]\n",
        "\n",
        "print(f\"Hello {Name[0]}, You are Invited to Dinner at 8pm\")\n",
        "print(f\"Hello {Name[1]}, You are Invited to Dinner at 8pm\")\n",
        "print(f\"Hello {Name[2]}, You are Invited to Dinner at 8pm\")"
      ],
      "metadata": {
        "colab": {
          "base_uri": "https://localhost:8080/"
        },
        "id": "aj-T3OY2lu9g",
        "outputId": "42723967-5f67-4172-e280-0d332ffe8a9b"
      },
      "execution_count": 6,
      "outputs": [
        {
          "output_type": "stream",
          "name": "stdout",
          "text": [
            "Hello Ali, You are Invited to Dinner at 8pm\n",
            "Hello Ali Salman, You are Invited to Dinner at 8pm\n",
            "Hello Zain, You are Invited to Dinner at 8pm\n"
          ]
        }
      ]
    },
    {
      "cell_type": "code",
      "source": [
        "# Exercise 3-5: Changing Guest List\n",
        "# ● Task: Start with your program from Exercise 3-4. Add a print() call at the end of your\n",
        "# program, stating the name of the guest who can’t make it. Modify your list, replacing the name of the guest who can’t make it with the name of the new person you are inviting.\n",
        "# Print a second set of invitation messages, one for each person who is still in your list.\n",
        "\n",
        "Name = [\"Ali\", \"Ali Salman\", \"Zain\"]\n",
        "\n",
        "print(f\"Hello {Name[0]}, You are Invited to Dinner at 8pm\")\n",
        "print(f\"Hello {Name[1]}, You are Invited to Dinner at 8pm\")\n",
        "print(f\"Hello {Name[2]}, You are Invited to Dinner at 8pm\")\n",
        "\n",
        "notcoming = \"Zain\"\n",
        "print(f\"\\nSadly, {notcoming} can't make it to the dinner.\")\n",
        "\n",
        "new = \"Momi\"\n",
        "Name[2] = new\n",
        "\n",
        "\n",
        "print(f\"Hello {Name[2]}, You are Invited to Dinner at 8pm\")\n"
      ],
      "metadata": {
        "colab": {
          "base_uri": "https://localhost:8080/"
        },
        "id": "vPd7J9qnmNZl",
        "outputId": "d28d804c-a02e-4370-e8fe-788b83afe096"
      },
      "execution_count": 9,
      "outputs": [
        {
          "output_type": "stream",
          "name": "stdout",
          "text": [
            "Hello Ali, You are Invited to Dinner at 8pm\n",
            "Hello Ali Salman, You are Invited to Dinner at 8pm\n",
            "Hello Zain, You are Invited to Dinner at 8pm\n",
            "\n",
            "Sadly, Zain can't make it to the dinner.\n",
            "Hello Momi, You are Invited to Dinner at 8pm\n"
          ]
        }
      ]
    },
    {
      "cell_type": "code",
      "source": [
        "# Exercise 3-6: More Guests\n",
        "# # ● Task: Start with your program from Exercise 3-4 or 3-5. Add a print() call to the end\n",
        "# # of your program, informing people that you found a bigger table. Use insert() to add\n",
        "# # one new guest to the beginning of your list. Use insert() to add one new guest to the\n",
        "# # middle of your list. Use append() to add one new guest to the end of your list. Print a\n",
        "# # new set of invitation messages, one for each person in your list.\n",
        "\n",
        "Name = [\"Ali\", \"Ali Salman\", \"Zain\"]\n",
        "\n",
        "print(f\"Hello {Name[0]}, You are Invited to Dinner at 8pm\")\n",
        "print(f\"Hello {Name[1]}, You are Invited to Dinner at 8pm\")\n",
        "print(f\"Hello {Name[2]}, You are Invited to Dinner at 8pm\")\n",
        "\n",
        "notcoming = \"Zain\"\n",
        "print(f\"\\nSadly, {notcoming} can't make it to the dinner.\")\n",
        "\n",
        "new = \"Momi\"\n",
        "Name[2] = new\n",
        "\n",
        "\n",
        "print(f\"Hello {Name[2]}, You are Invited to Dinner at 8pm\")\n",
        "\n",
        "print(\"\\nGood news! We found a bigger dinner table.\")\n",
        "\n",
        "\n",
        "Name.insert(0, \"Ahmed\")\n",
        "\n",
        "\n",
        "Name.insert(2, \"Hassan\")\n",
        "\n",
        "Name.append(\"Usman\")\n",
        "\n",
        "print(f\"Hello {Name[0]}, You are Invited to Dinner at 8pm\")\n",
        "print(f\"Hello {Name[1]}, You are Invited to Dinner at 8pm\")\n",
        "print(f\"Hello {Name[2]}, You are Invited to Dinner at 8pm\")\n",
        "print(f\"Hello {Name[3]}, You are Invited to Dinner at 8pm\")\n",
        "print(f\"Hello {Name[4]}, You are Invited to Dinner at 8pm\")\n",
        "print(f\"Hello {Name[5]}, You are Invited to Dinner at 8pm\")"
      ],
      "metadata": {
        "colab": {
          "base_uri": "https://localhost:8080/"
        },
        "id": "DGwnR-K-njkc",
        "outputId": "80e9cfe2-050c-4068-9a34-7b56bf60bb7f"
      },
      "execution_count": 16,
      "outputs": [
        {
          "output_type": "stream",
          "name": "stdout",
          "text": [
            "Hello Ali, You are Invited to Dinner at 8pm\n",
            "Hello Ali Salman, You are Invited to Dinner at 8pm\n",
            "Hello Zain, You are Invited to Dinner at 8pm\n",
            "\n",
            "Sadly, Zain can't make it to the dinner.\n",
            "Hello Momi, You are Invited to Dinner at 8pm\n",
            "\n",
            "Good news! We found a bigger dinner table.\n",
            "['Ahmed', 'Ali', 'Hassan', 'Ali Salman', 'Momi', 'Usman']\n",
            "Hello Ahmed, You are Invited to Dinner at 8pm\n",
            "Hello Ali, You are Invited to Dinner at 8pm\n",
            "Hello Hassan, You are Invited to Dinner at 8pm\n",
            "Hello Ali Salman, You are Invited to Dinner at 8pm\n",
            "Hello Momi, You are Invited to Dinner at 8pm\n",
            "Hello Usman, You are Invited to Dinner at 8pm\n"
          ]
        }
      ]
    },
    {
      "cell_type": "code",
      "source": [
        "# Exercise 3-7: Shrinking Guest List\n",
        "# # ● Task: Start with your program from Exercise 3-6. Add a new line that prints a message\n",
        "# # saying that you can invite only two people for dinner. Use pop() to remove guests from\n",
        "# # your list one at a time until only two names remain in your list. Each time you pop a\n",
        "# # name from your list, print a message to that person letting them know you’re sorry you\n",
        "# # can’t invite them to dinner. Print a message to each of the two people still on your list,\n",
        "# # letting them know they’re still invited. Use del to remove the last two names from your\n",
        "# # list, so you have an empty list. Print your list to make sure you actually have an empty\n",
        "# # list at the end of your program.\n",
        "\n",
        "Name = [\"Ali\", \"Ali Salman\", \"Zain\"]\n",
        "\n",
        "print(f\"Hello {Name[0]}, You are Invited to Dinner at 8pm\")\n",
        "print(f\"Hello {Name[1]}, You are Invited to Dinner at 8pm\")\n",
        "print(f\"Hello {Name[2]}, You are Invited to Dinner at 8pm\")\n",
        "\n",
        "notcoming = \"Zain\"\n",
        "print(f\"\\nSadly, {notcoming} can't make it to the dinner.\")\n",
        "\n",
        "new = \"Momi\"\n",
        "Name[2] = new\n",
        "\n",
        "\n",
        "print(f\"Hello {Name[2]}, You are Invited to Dinner at 8pm\")\n",
        "\n",
        "print(\"\\nGood news! We found a bigger dinner table.\")\n",
        "\n",
        "\n",
        "Name.insert(0, \"Ahmed\")\n",
        "\n",
        "\n",
        "Name.insert(2, \"Hassan\")\n",
        "\n",
        "Name.append(\"Usman\")\n",
        "\n",
        "print(f\"Hello {Name[0]}, You are Invited to Dinner at 8pm\")\n",
        "print(f\"Hello {Name[1]}, You are Invited to Dinner at 8pm\")\n",
        "print(f\"Hello {Name[2]}, You are Invited to Dinner at 8pm\")\n",
        "print(f\"Hello {Name[3]}, You are Invited to Dinner at 8pm\")\n",
        "print(f\"Hello {Name[4]}, You are Invited to Dinner at 8pm\")\n",
        "print(f\"Hello {Name[5]}, You are Invited to Dinner at 8pm\")\n",
        "\n",
        "\n",
        "print(\"\\nUnfortunately, the new dinner table won't arrive in time, and we can only invite two people for dinner.\")\n",
        "\n",
        "while len(Name) > 2:\n",
        "    popped = Name.pop()\n",
        "    print(f\"Sorry, {popped}, we can't invite you to dinner.\")\n",
        "\n",
        "print(f\"\\nHello {Name[0]}, you're still invited to dinner!\")\n",
        "print(f\"Hello {Name[1]}, you're still invited to dinner!\")\n",
        "\n",
        "\n",
        "del Name[0]\n",
        "del Name[0]\n",
        "\n"
      ],
      "metadata": {
        "colab": {
          "base_uri": "https://localhost:8080/"
        },
        "id": "7VmiJNBooUaB",
        "outputId": "6d7262d3-1900-4015-82ab-65c469d538cb"
      },
      "execution_count": 23,
      "outputs": [
        {
          "output_type": "stream",
          "name": "stdout",
          "text": [
            "Hello Ali, You are Invited to Dinner at 8pm\n",
            "Hello Ali Salman, You are Invited to Dinner at 8pm\n",
            "Hello Zain, You are Invited to Dinner at 8pm\n",
            "\n",
            "Sadly, Zain can't make it to the dinner.\n",
            "Hello Momi, You are Invited to Dinner at 8pm\n",
            "\n",
            "Good news! We found a bigger dinner table.\n",
            "Hello Ahmed, You are Invited to Dinner at 8pm\n",
            "Hello Ali, You are Invited to Dinner at 8pm\n",
            "Hello Hassan, You are Invited to Dinner at 8pm\n",
            "Hello Ali Salman, You are Invited to Dinner at 8pm\n",
            "Hello Momi, You are Invited to Dinner at 8pm\n",
            "Hello Usman, You are Invited to Dinner at 8pm\n",
            "\n",
            "Unfortunately, the new dinner table won't arrive in time, and we can only invite two people for dinner.\n",
            "Sorry, Usman, we can't invite you to dinner.\n",
            "Sorry, Momi, we can't invite you to dinner.\n",
            "Sorry, Ali Salman, we can't invite you to dinner.\n",
            "Sorry, Hassan, we can't invite you to dinner.\n",
            "\n",
            "Hello Ahmed, you're still invited to dinner!\n",
            "Hello Ali, you're still invited to dinner!\n"
          ]
        }
      ]
    },
    {
      "cell_type": "code",
      "source": [
        "# Exercise 3-8: Seeing the World\n",
        "# # # ● Task: Think of at least five places in the world you’d like to visit. Store the locations in a\n",
        "# # # list. Make sure the list is not in alphabetical order. Print your list in its original order. Don’t\n",
        "# # # worry about printing the list neatly; just print it as a raw Python list. Use sorted() to\n",
        "# # # print your list in alphabetical order without modifying the actual list. Show that your list is\n",
        "# # # still in its original order by printing it. Use sorted() to print your list in\n",
        "# # # reverse-alphabetical order without changing the order of the original list. Show that your\n",
        "# # # list is still in its original order by printing it again. Use reverse() to change the order of\n",
        "# # # your list. Print the list to show that its order has changed. Use reverse() to change the\n",
        "# # # order of your list again. Print the list to show it’s back to its original order. Use sort() to\n",
        "# # # change your list so it’s stored in alphabetical order. Print the list to show that its order\n",
        "\n",
        "locations = [\"India\", \"Saudia\", \"New York\", \"Oxford\", \"Itly\"]\n",
        "\n",
        "print(\"Original order:\", locations)\n",
        "\n",
        "print(\"\\nAlphabetical order:\", sorted(locations))\n",
        "\n",
        "print(\"\\nOriginal order:\", locations)\n",
        "\n",
        "print(\"\\nReverse alphabetical order:\", sorted(locations, reverse=True))\n",
        "\n",
        "print(\"\\nOriginal order:\", locations)\n",
        "\n",
        "locations.reverse()\n",
        "print(\"\\nReversed order:\", locations)\n",
        "\n",
        "locations.reverse()\n",
        "print(\"\\nOriginal order:\", locations)\n",
        "\n",
        "locations.sort()\n",
        "print(\"\\nAlphabetical order (permanent change):\", locations)\n",
        "\n",
        "locations.sort(reverse=True)\n",
        "print(\"\\nReverse alphabetical order (permanent change):\", locations)"
      ],
      "metadata": {
        "colab": {
          "base_uri": "https://localhost:8080/"
        },
        "id": "lAIwVTLnpSN3",
        "outputId": "34795eb1-c861-412b-a5ee-5e3032fa8596"
      },
      "execution_count": 26,
      "outputs": [
        {
          "output_type": "stream",
          "name": "stdout",
          "text": [
            "Original order: ['India', 'Saudia', 'New York', 'Oxford', 'Itly']\n",
            "\n",
            "Alphabetical order: ['India', 'Itly', 'New York', 'Oxford', 'Saudia']\n",
            "\n",
            "Original order: ['India', 'Saudia', 'New York', 'Oxford', 'Itly']\n",
            "\n",
            "Reverse alphabetical order: ['Saudia', 'Oxford', 'New York', 'Itly', 'India']\n",
            "\n",
            "Original order: ['India', 'Saudia', 'New York', 'Oxford', 'Itly']\n",
            "\n",
            "Reversed order: ['Itly', 'Oxford', 'New York', 'Saudia', 'India']\n",
            "\n",
            "Original order: ['India', 'Saudia', 'New York', 'Oxford', 'Itly']\n",
            "\n",
            "Alphabetical order (permanent change): ['India', 'Itly', 'New York', 'Oxford', 'Saudia']\n",
            "\n",
            "Reverse alphabetical order (permanent change): ['Saudia', 'Oxford', 'New York', 'Itly', 'India']\n"
          ]
        }
      ]
    },
    {
      "cell_type": "code",
      "source": [
        "# Exercise 3-9: Every Function\n",
        "# ● Task: Think of things you could store in a list. For example, you could make a list of\n",
        "# mountains, rivers, countries, cities, languages, or anything else you’d like. Write a\n",
        "# program that creates a list containing these items and then uses each function\n",
        "# introduced in this chapter at least once.\n",
        "\n",
        "# Exercise 3-9: Every Function\n",
        "# ● Task: Think of things you could store in a list. For example, you could make a list of\n",
        "# mountains, rivers, countries, cities, languages, or anything else you’d like. Write a\n",
        "# program that creates a list containing these items and then uses each function\n",
        "# introduced in this chapter at least once.\n",
        "\n",
        "\n",
        "cities = [\"Okara\", \"Lahore\", \"Islamabad\", \"Hujra\", \"Murree\"]\n",
        "\n",
        "\n",
        "print(cities[0])\n",
        "print(cities[-1])\n",
        "\n",
        "\n",
        "cities[0] = \"Multan\"\n",
        "print(cities)\n",
        "\n",
        "\n",
        "cities.append(\"Hyderabad\")\n",
        "cities.insert(2, \"Rawalpindi\")\n",
        "print(cities)\n",
        "\n",
        "\n",
        "del cities[0]\n",
        "cities.remove(\"Lahore\")\n",
        "popped_city = cities.pop()\n",
        "print(cities)\n",
        "print(popped_city)\n",
        "\n",
        "\n",
        "\n",
        "cities.sort()\n",
        "print(\"Sorted list (alphabetical):\", cities)\n",
        "\n",
        "cities.sort(reverse=True)\n",
        "print(\"Sorted list (reverse alphabetical):\", cities)\n",
        "\n",
        "\n",
        "\n",
        "print(\"Temporarily sorted list:\", sorted(cities))\n",
        "\n",
        "\n",
        "\n",
        "print(\"Number of cities in the list:\", len(cities))\n",
        "\n",
        "for city in cities:\n",
        "    print(city)\n",
        "\n",
        "\n",
        "\n",
        "if \"Murree\" in cities:\n",
        "    print(\"Murree is in the list.\")\n",
        "else:\n",
        "    print(\"Murree is not in the list.\")\n",
        "\n",
        "if \"Islamabad\" in cities:\n",
        "    print(\"Islamabad is in the list.\")\n",
        "else:\n",
        "    print(\"Islamabad is not in the list.\")\n",
        "\n",
        "\n",
        "print(\"First three cities:\", cities[:3])\n",
        "print(\"Last two cities:\", cities[-2:])\n",
        "\n",
        "\n",
        "\n",
        "copied_cities = cities[:]\n",
        "print(\"Copied Cities:\", copied_cities)\n",
        "\n",
        "\n",
        "cities.clear()\n",
        "print(\"Cities after clearing:\", cities)"
      ],
      "metadata": {
        "colab": {
          "base_uri": "https://localhost:8080/"
        },
        "id": "dFSawNWrrHqM",
        "outputId": "ea258262-7415-4035-bfb7-5559825e62b3"
      },
      "execution_count": 27,
      "outputs": [
        {
          "output_type": "stream",
          "name": "stdout",
          "text": [
            "Okara\n",
            "Murree\n",
            "['Multan', 'Lahore', 'Islamabad', 'Hujra', 'Murree']\n",
            "['Multan', 'Lahore', 'Rawalpindi', 'Islamabad', 'Hujra', 'Murree', 'Hyderabad']\n",
            "['Rawalpindi', 'Islamabad', 'Hujra', 'Murree']\n",
            "Hyderabad\n",
            "Sorted list (alphabetical): ['Hujra', 'Islamabad', 'Murree', 'Rawalpindi']\n",
            "Sorted list (reverse alphabetical): ['Rawalpindi', 'Murree', 'Islamabad', 'Hujra']\n",
            "Temporarily sorted list: ['Hujra', 'Islamabad', 'Murree', 'Rawalpindi']\n",
            "Number of cities in the list: 4\n",
            "Rawalpindi\n",
            "Murree\n",
            "Islamabad\n",
            "Hujra\n",
            "Murree is in the list.\n",
            "Islamabad is in the list.\n",
            "First three cities: ['Rawalpindi', 'Murree', 'Islamabad']\n",
            "Last two cities: ['Islamabad', 'Hujra']\n",
            "Copied Cities: ['Rawalpindi', 'Murree', 'Islamabad', 'Hujra']\n",
            "Cities after clearing: []\n"
          ]
        }
      ]
    },
    {
      "cell_type": "code",
      "source": [
        "# Exercise 3-10: Intentional Error\n",
        "# ● Task: If you haven’t received an index error in one of your programs yet, try to make one\n",
        "# happen. Change an index in one of your programs to produce an index error. Make sure\n",
        "# you correct the error before closing the program.\n",
        "\n",
        "# 12. Observing Name Error\n",
        "# Task: Assign the value \"Sunshine\" to a variable and print it. Then, mistakenly try to print a\n",
        "# variable with a different name (like sunsine) and observe the error.\n",
        "\n",
        "name = \"Sunshine\"\n",
        "\n",
        "print(sunsine)\n",
        "\n",
        "\n",
        "name[10]"
      ],
      "metadata": {
        "colab": {
          "base_uri": "https://localhost:8080/",
          "height": 211
        },
        "id": "1oTRqkiJr5t2",
        "outputId": "3e484279-9dc8-4c3d-868c-6c1b935e8125"
      },
      "execution_count": 30,
      "outputs": [
        {
          "output_type": "error",
          "ename": "NameError",
          "evalue": "name 'sunsine' is not defined",
          "traceback": [
            "\u001b[0;31m---------------------------------------------------------------------------\u001b[0m",
            "\u001b[0;31mNameError\u001b[0m                                 Traceback (most recent call last)",
            "\u001b[0;32m<ipython-input-30-0a87d5bd92ab>\u001b[0m in \u001b[0;36m<cell line: 12>\u001b[0;34m()\u001b[0m\n\u001b[1;32m     10\u001b[0m \u001b[0mname\u001b[0m \u001b[0;34m=\u001b[0m \u001b[0;34m\"Sunshine\"\u001b[0m\u001b[0;34m\u001b[0m\u001b[0;34m\u001b[0m\u001b[0m\n\u001b[1;32m     11\u001b[0m \u001b[0;34m\u001b[0m\u001b[0m\n\u001b[0;32m---> 12\u001b[0;31m \u001b[0mprint\u001b[0m\u001b[0;34m(\u001b[0m\u001b[0msunsine\u001b[0m\u001b[0;34m)\u001b[0m\u001b[0;34m\u001b[0m\u001b[0;34m\u001b[0m\u001b[0m\n\u001b[0m\u001b[1;32m     13\u001b[0m \u001b[0;34m\u001b[0m\u001b[0m\n\u001b[1;32m     14\u001b[0m \u001b[0;34m\u001b[0m\u001b[0m\n",
            "\u001b[0;31mNameError\u001b[0m: name 'sunsine' is not defined"
          ]
        }
      ]
    }
  ]
}