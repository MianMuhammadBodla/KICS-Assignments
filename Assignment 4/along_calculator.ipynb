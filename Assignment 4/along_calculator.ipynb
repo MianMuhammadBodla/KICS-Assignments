{
  "cells": [
    {
      "cell_type": "code",
      "execution_count": null,
      "id": "b9836867-6332-45a9-b85c-954e66cc6ac1",
      "metadata": {
        "id": "b9836867-6332-45a9-b85c-954e66cc6ac1",
        "outputId": "9470b233-2292-413f-fa8a-0f6815333b42"
      },
      "outputs": [
        {
          "name": "stdout",
          "output_type": "stream",
          "text": [
            "Money you have left, after purchasing the item = 34.8\n"
          ]
        }
      ],
      "source": [
        "# 1. Write a Python program that can do the following:\n",
        "# - You have $50\n",
        "# - You buy an item that is $15, that has a 3% tax\n",
        "# - Print how much money you have left, after purchasing the item.\n",
        "\n",
        "\n",
        "total = 50\n",
        "item = 15\n",
        "tex = 3/15\n",
        "\n",
        "print (f\"Money you have left, after purchasing the item = {total - item - tex}\")"
      ]
    },
    {
      "cell_type": "code",
      "source": [
        "# 2. Ask the user how many days until their birthday\n",
        "# - Print an approx. number of weeks until their birthday\n",
        "# - 1 week is = to 7 days.\n",
        "\n",
        "days = int(input(\"Please tell how many days left until your birthday: \"))\n",
        "weeks = round(days / 7)\n",
        "\n",
        "print(f\"Approx. number of weeks until your birthday: {weeks}\")"
      ],
      "metadata": {
        "colab": {
          "base_uri": "https://localhost:8080/"
        },
        "id": "7FDGWjIef0oa",
        "outputId": "2151c249-c492-4fc0-a1e7-b46e08591f4e"
      },
      "id": "7FDGWjIef0oa",
      "execution_count": 1,
      "outputs": [
        {
          "output_type": "stream",
          "name": "stdout",
          "text": [
            "Please tell how many days left until your birthday: 60\n",
            "Approx. number of weeks until your birthday: 9\n"
          ]
        }
      ]
    },
    {
      "cell_type": "code",
      "execution_count": null,
      "id": "5b82c7c1-49ba-45b1-90f8-0fdd6f18d73e",
      "metadata": {
        "id": "5b82c7c1-49ba-45b1-90f8-0fdd6f18d73e",
        "outputId": "91dc3d54-f3e0-4286-81fb-25e6440030ea"
      },
      "outputs": [
        {
          "name": "stdin",
          "output_type": "stream",
          "text": [
            "input your marks to know your grade 96\n"
          ]
        },
        {
          "name": "stdout",
          "output_type": "stream",
          "text": [
            "Your Grade is A\n"
          ]
        }
      ],
      "source": [
        "# 3. Create a variable “Grade” holding an integer between 0 to100. Code to print\n",
        "# the letter grade of the number grade variable.\n",
        "# Grades:\n",
        "# - A = 90 - 100\n",
        "# - B = 80 - 89\n",
        "# - C = 70-79\n",
        "# - D = 60 - 69\n",
        "# - F = 0 – 59\n",
        "\n",
        "\n",
        "Grades = float(input(\"input your marks to know your grade\"))\n",
        "\n",
        "if Grades >=90:\n",
        "    print (\"Your Grade is A\")\n",
        "elif Grades >= 80:\n",
        "    print (\"Your Grade is B\")\n",
        "elif Grades >= 70:\n",
        "    print (\"Your Grade is C\")\n",
        "elif Grades >= 60:\n",
        "    print (\"Your Grade is D\")\n",
        "elif Grades >= 0:\n",
        "    print (\"Your Grade is F\")\n",
        "else:\n",
        "    Print(\"Please put numbers\")"
      ]
    },
    {
      "cell_type": "code",
      "execution_count": null,
      "id": "0e44a754-1f0a-4abc-963e-e1c3cb56d0c7",
      "metadata": {
        "id": "0e44a754-1f0a-4abc-963e-e1c3cb56d0c7"
      },
      "outputs": [],
      "source": []
    }
  ],
  "metadata": {
    "kernelspec": {
      "display_name": "Python 3 (ipykernel)",
      "language": "python",
      "name": "python3"
    },
    "language_info": {
      "codemirror_mode": {
        "name": "ipython",
        "version": 3
      },
      "file_extension": ".py",
      "mimetype": "text/x-python",
      "name": "python",
      "nbconvert_exporter": "python",
      "pygments_lexer": "ipython3",
      "version": "3.12.4"
    },
    "colab": {
      "provenance": []
    }
  },
  "nbformat": 4,
  "nbformat_minor": 5
}